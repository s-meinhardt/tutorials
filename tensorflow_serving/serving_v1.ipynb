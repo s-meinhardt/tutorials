{
 "cells": [
  {
   "cell_type": "markdown",
   "metadata": {
    "colab_type": "text",
    "id": "MhoQ0WE77laV"
   },
   "source": [
    "##### Copyright 2019 The TensorFlow Authors."
   ]
  },
  {
   "cell_type": "code",
   "execution_count": null,
   "metadata": {
    "cellView": "form",
    "colab": {},
    "colab_type": "code",
    "id": "_ckMIh7O7s6D"
   },
   "outputs": [],
   "source": [
    "#@title Licensed under the Apache License, Version 2.0 (the \"License\");\n",
    "# you may not use this file except in compliance with the License.\n",
    "# You may obtain a copy of the License at\n",
    "#\n",
    "# https://www.apache.org/licenses/LICENSE-2.0\n",
    "#\n",
    "# Unless required by applicable law or agreed to in writing, software\n",
    "# distributed under the License is distributed on an \"AS IS\" BASIS,\n",
    "# WITHOUT WARRANTIES OR CONDITIONS OF ANY KIND, either express or implied.\n",
    "# See the License for the specific language governing permissions and\n",
    "# limitations under the License."
   ]
  },
  {
   "cell_type": "markdown",
   "metadata": {
    "colab_type": "text",
    "id": "jYysdyb-CaWM"
   },
   "source": [
    "# Train and serve a TensorFlow model with TensorFlow Serving"
   ]
  },
  {
   "cell_type": "markdown",
   "metadata": {
    "colab_type": "text",
    "id": "E6FwTNtl3S4v"
   },
   "source": [
    "> Warning: **This notebook is designed to be run in a Google Colab only**.  It installs packages on the system and requires root access.  If you want to run it in a local Jupyter notebook, please proceed with caution.\n",
    "\n",
    "Note: You can run this example right now in a Jupyter-style notebook, no setup required!  Just click \"Run in Google Colab\"\n",
    "\n",
    "<div class=\"devsite-table-wrapper\"><table class=\"tfo-notebook-buttons\" align=\"left\">\n",
    "<tr><td><a target=\"_blank\" href=\"https://www.tensorflow.org/tfx/tutorials/serving/rest_simple\">\n",
    "<img src=\"https://www.tensorflow.org/images/tf_logo_32px.png\" />View on TensorFlow.org</a></td>\n",
    "<td><a target=\"_blank\" href=\"https://colab.research.google.com/github/tensorflow/tfx/blob/master/docs/tutorials/serving/rest_simple.ipynb\">\n",
    "<img src=\"https://www.tensorflow.org/images/colab_logo_32px.png\">Run in Google Colab</a></td>\n",
    "<td><a target=\"_blank\" href=\"https://github.com/tensorflow/tfx/blob/master/docs/tutorials/serving/rest_simple.ipynb\">\n",
    "<img width=32px src=\"https://www.tensorflow.org/images/GitHub-Mark-32px.png\">View source on GitHub</a></td>\n",
    "</tr></table></div>"
   ]
  },
  {
   "cell_type": "markdown",
   "metadata": {
    "colab_type": "text",
    "id": "FbVhjPpzn6BM"
   },
   "source": [
    "This guide trains a neural network model to classify [images of clothing, like sneakers and shirts](https://github.com/zalandoresearch/fashion-mnist), saves the trained model, and then serves it with [TensorFlow Serving](https://www.tensorflow.org/serving/).  The focus is on TensorFlow Serving, rather than the modeling and training in TensorFlow, so for a complete example which focuses on the modeling and training see the [Basic Classification example](https://github.com/tensorflow/docs/blob/master/site/en/r1/tutorials/keras/basic_classification.ipynb).\n",
    "\n",
    "This guide uses [tf.keras](https://github.com/tensorflow/docs/blob/master/site/en/r1/guide/keras.ipynb), a high-level API to build and train models in TensorFlow."
   ]
  },
  {
   "cell_type": "code",
   "execution_count": null,
   "metadata": {
    "colab": {
     "base_uri": "https://localhost:8080/",
     "height": 34
    },
    "colab_type": "code",
    "id": "dzLKpmZICaWN",
    "outputId": "da36b678-5ff6-4e2c-dd9e-2dc3170bba8c"
   },
   "outputs": [],
   "source": [
    "# TensorFlow and tf.keras\n",
    "import tensorflow as tf\n",
    "from tensorflow import keras\n",
    "\n",
    "# Helper libraries\n",
    "import numpy as np\n",
    "import matplotlib.pyplot as plt\n",
    "import os\n",
    "import subprocess\n",
    "import logging\n",
    "\n",
    "logging.disable(logging.ERROR)\n",
    "os.environ[\"TF_CPP_MIN_LOG_LEVEL\"] = \"3\"\n",
    "\n",
    "print(tf.__version__)"
   ]
  },
  {
   "cell_type": "code",
   "execution_count": null,
   "metadata": {},
   "outputs": [],
   "source": [
    "for gpu in tf.config.list_physical_devices('GPU'):\n",
    "    tf.config.experimental.set_memory_growth(gpu, True)"
   ]
  },
  {
   "cell_type": "markdown",
   "metadata": {
    "colab_type": "text",
    "id": "5jAk1ZXqTJqN"
   },
   "source": [
    "## Create your model"
   ]
  },
  {
   "cell_type": "markdown",
   "metadata": {
    "colab_type": "text",
    "id": "yR0EdgrLCaWR"
   },
   "source": [
    "### Import the Fashion MNIST dataset\n",
    "\n",
    "This guide uses the [Fashion MNIST](https://github.com/zalandoresearch/fashion-mnist) dataset which contains 70,000 grayscale images in 10 categories. The images show individual articles of clothing at low resolution (28 by 28 pixels), as seen here:\n",
    "\n",
    "<table>\n",
    "  <tr><td>\n",
    "    <img src=\"https://tensorflow.org/images/fashion-mnist-sprite.png\"\n",
    "         alt=\"Fashion MNIST sprite\"  width=\"600\">\n",
    "  </td></tr>\n",
    "  <tr><td align=\"center\">\n",
    "    <b>Figure 1.</b> <a href=\"https://github.com/zalandoresearch/fashion-mnist\">Fashion-MNIST samples</a> (by Zalando, MIT License).<br/>&nbsp;\n",
    "  </td></tr>\n",
    "</table>\n",
    "\n",
    "Fashion MNIST is intended as a drop-in replacement for the classic [MNIST](http://yann.lecun.com/exdb/mnist/) dataset—often used as the \"Hello, World\" of machine learning programs for computer vision. You can access the Fashion MNIST directly from TensorFlow, just import and load the data.\n",
    "\n",
    "Note: Although these are really images, they are loaded as NumPy arrays and not binary image objects."
   ]
  },
  {
   "cell_type": "code",
   "execution_count": null,
   "metadata": {
    "colab": {
     "base_uri": "https://localhost:8080/",
     "height": 255
    },
    "colab_type": "code",
    "id": "7MqDQO0KCaWS",
    "outputId": "18ee19db-cc5e-4141-9e27-ba8f52b2c148"
   },
   "outputs": [],
   "source": [
    "fashion_mnist = keras.datasets.fashion_mnist\n",
    "(train_images, train_labels), (test_images, test_labels) = fashion_mnist.load_data()\n",
    "\n",
    "# scale the values to 0.0 to 1.0\n",
    "train_images = train_images / 255.0\n",
    "test_images = test_images / 255.0\n",
    "\n",
    "# reshape for feeding into the model\n",
    "train_images = train_images.reshape(train_images.shape[0], 28, 28, 1)\n",
    "test_images = test_images.reshape(test_images.shape[0], 28, 28, 1)\n",
    "\n",
    "class_names = ['T-shirt/top', 'Trouser', 'Pullover', 'Dress', 'Coat',\n",
    "               'Sandal', 'Shirt', 'Sneaker', 'Bag', 'Ankle boot']\n",
    "\n",
    "print('\\ntrain_images.shape: {}, of {}'.format(train_images.shape, train_images.dtype))\n",
    "print('test_images.shape: {}, of {}'.format(test_images.shape, test_images.dtype))"
   ]
  },
  {
   "cell_type": "markdown",
   "metadata": {
    "colab_type": "text",
    "id": "PDu7OX8Nf5PY"
   },
   "source": [
    "### Train and evaluate your model\n",
    "\n",
    "Let's use the simplest possible CNN, since we're not focused on the modeling part."
   ]
  },
  {
   "cell_type": "code",
   "execution_count": null,
   "metadata": {
    "colab": {
     "base_uri": "https://localhost:8080/",
     "height": 459
    },
    "colab_type": "code",
    "id": "LTNN0ANGgA36",
    "outputId": "9733b5ce-820f-43e6-de52-7bef7bcb759d"
   },
   "outputs": [],
   "source": [
    "model = keras.Sequential([\n",
    "  keras.layers.Conv2D(input_shape=(28,28,1), filters=8, kernel_size=3, \n",
    "                      strides=2, activation='relu', name='Conv1'),\n",
    "  keras.layers.Flatten(),\n",
    "  keras.layers.Dense(10, activation=tf.nn.softmax, name='Softmax')\n",
    "])\n",
    "model.summary()\n",
    "\n",
    "testing = False\n",
    "epochs = 5\n",
    "\n",
    "model.compile(optimizer=tf.optimizers.Adam(), \n",
    "              loss='sparse_categorical_crossentropy',\n",
    "              metrics=['accuracy'])\n",
    "model.fit(train_images, train_labels, epochs=epochs)\n",
    "\n",
    "test_loss, test_acc = model.evaluate(test_images, test_labels)\n",
    "print('\\nTest accuracy: {}'.format(test_acc))"
   ]
  },
  {
   "cell_type": "markdown",
   "metadata": {
    "colab_type": "text",
    "id": "AwGPItyphqXT"
   },
   "source": [
    "## Save your model\n",
    "\n",
    "To load our trained model into TensorFlow Serving we first need to save it in [SavedModel](https://www.tensorflow.org/versions/r1.15/api_docs/python/tf/saved_model) format.  This will create a protobuf file in a well-defined directory hierarchy, and will include a version number.  [TensorFlow Serving](https://www.tensorflow.org/tfx/guide/serving) allows us to select which version of a model, or \"servable\" we want to use when we make inference requests.  Each version will be exported to a different sub-directory under the given path."
   ]
  },
  {
   "cell_type": "code",
   "execution_count": null,
   "metadata": {
    "colab": {
     "base_uri": "https://localhost:8080/",
     "height": 136
    },
    "colab_type": "code",
    "id": "0w5Rq8SsgWE6",
    "outputId": "0c318fa8-4368-4b9d-d7c6-d9d35b8f6aad"
   },
   "outputs": [],
   "source": [
    "# Fetch the Keras session and save the model\n",
    "# The signature definition is defined by the input and output tensors,\n",
    "# and stored with the default serving key\n",
    "import tempfile\n",
    "import shutil\n",
    "\n",
    "MODEL_DIR = tempfile.gettempdir()\n",
    "MODEL_NAME = \"my_mnist_model\"\n",
    "VERSION = \"0002\"\n",
    "export_path = os.path.join(MODEL_DIR, MODEL_NAME, VERSION)\n",
    "print('export_path = {}\\n'.format(export_path))\n",
    "\n",
    "if os.path.isdir(export_path):\n",
    "  print('\\nAlready saved a model, cleaning up\\n')\n",
    "  shutil.rmtree(export_path, ignore_errors=True)\n",
    "\n",
    "model.save(export_path)\n",
    "\n",
    "print('\\nSaved model:')\n",
    "!ls -l {export_path}"
   ]
  },
  {
   "cell_type": "markdown",
   "metadata": {
    "colab_type": "text",
    "id": "FM7B_RuDYoIj"
   },
   "source": [
    "## Examine your saved model\n",
    "\n",
    "We'll use the command line utility `saved_model_cli` to look at the [MetaGraphDefs](https://www.tensorflow.org/versions/r1.15/api_docs/python/tf/MetaGraphDef) (the models) and [SignatureDefs](../signature_defs) (the methods you can call) in our SavedModel.  See [this discussion of the SavedModel CLI](https://github.com/tensorflow/docs/blob/master/site/en/r1/guide/saved_model.md#cli-to-inspect-and-execute-savedmodel) in the TensorFlow Guide."
   ]
  },
  {
   "cell_type": "code",
   "execution_count": null,
   "metadata": {
    "colab": {
     "base_uri": "https://localhost:8080/",
     "height": 272
    },
    "colab_type": "code",
    "id": "LU4GDF_aYtfQ",
    "outputId": "51a3405c-4bd0-4c0d-833e-168ef7b669ac"
   },
   "outputs": [],
   "source": [
    "#!saved_model_cli show --dir {export_path} --all"
   ]
  },
  {
   "cell_type": "markdown",
   "metadata": {
    "colab_type": "text",
    "id": "lSPWuegUb7Eo"
   },
   "source": [
    "That tells us a lot about our model!  In this case we just trained our model, so we already know the inputs and outputs, but if we didn't this would be important information.  It doesn't tell us everything, like the fact that this is grayscale image data for example, but it's a great start."
   ]
  },
  {
   "cell_type": "markdown",
   "metadata": {
    "colab_type": "text",
    "id": "DBgsyhytS6KD"
   },
   "source": [
    "## Serve your model with TensorFlow Serving\n",
    "\n"
   ]
  },
  {
   "cell_type": "markdown",
   "metadata": {
    "colab_type": "text",
    "id": "W1ZVp_VOU7Wu"
   },
   "source": [
    "### Run a TensorFlow Serving containier\n"
   ]
  },
  {
   "cell_type": "markdown",
   "metadata": {},
   "source": [
    "Run the following code in a terminal, where `my_model_path` and `my_model_name` are directory and name of my model. The port 8500 is for the gPRC API and the port 8501 is for the REST API.\n",
    "\n",
    "```BASH\n",
    "export MODEL_DIR=my_model_path\n",
    "export MODEL_NAME=my_model_name\n",
    "\n",
    "\n",
    "docker run -d --rm -p 8500:8500 -p 8501:8501 -v $MODEL_DIR/$MODEL_NAME:/models/$MODEL_NAME   \\\n",
    "   -e MODEL_NAME=$MODEL_NAME tensorflow/serving\n",
    "\n",
    "\n",
    "```\n",
    "Don' use the `%%bash` magic cell!"
   ]
  },
  {
   "cell_type": "markdown",
   "metadata": {
    "colab_type": "text",
    "id": "vwg1JKaGXWAg"
   },
   "source": [
    "## Make a request to your model in TensorFlow Serving\n",
    "\n",
    "First, let's take a look at a random example from our test data."
   ]
  },
  {
   "cell_type": "code",
   "execution_count": null,
   "metadata": {
    "colab": {
     "base_uri": "https://localhost:8080/",
     "height": 318
    },
    "colab_type": "code",
    "id": "Luqm_Jyff9iR",
    "outputId": "85e6d60f-3755-4d36-f87d-ad9aaba4ab52"
   },
   "outputs": [],
   "source": [
    "def show(idx, title):\n",
    "  plt.figure()\n",
    "  plt.imshow(test_images[idx].reshape(28,28))\n",
    "  plt.axis('off')\n",
    "  plt.title('\\n\\n{}'.format(title), fontdict={'size': 16})\n",
    "\n",
    "import random\n",
    "rando = random.randint(0,len(test_images)-1)\n",
    "show(rando, 'An Example Image: {}'.format(class_names[test_labels[rando]]))"
   ]
  },
  {
   "cell_type": "markdown",
   "metadata": {
    "colab_type": "text",
    "id": "ReQd4QESIwXN"
   },
   "source": [
    "### Using the REST (Representational state transfer) protocol for requests"
   ]
  },
  {
   "cell_type": "markdown",
   "metadata": {
    "colab_type": "text",
    "id": "iT3J-lHrhOYQ"
   },
   "source": [
    "#### Newest version of the servable\n",
    "\n",
    "We'll send a predict request as a POST to our server's REST endpoint, and pass it three examples.  We'll ask our server to give us the latest version of our servable by not specifying a particular version."
   ]
  },
  {
   "cell_type": "code",
   "execution_count": null,
   "metadata": {
    "colab": {
     "base_uri": "https://localhost:8080/",
     "height": 318
    },
    "colab_type": "code",
    "id": "vGvFyuIzW6n6",
    "outputId": "f731f319-8390-4df9-909c-7cffa56d7fcc"
   },
   "outputs": [],
   "source": [
    "#!pip install -q requests\n",
    "import requests\n",
    "\n",
    "idx = 17 # the index of our first picture, we'll send this and the next two to the server for prediction\n",
    "\n",
    "headers = {\"content-type\": \"application/json\"}\n",
    "url = f'http://localhost:8501/v1/models/{MODEL_NAME}:predict'\n",
    "data = {\"signature_name\": \"serving_default\", \"instances\": test_images[idx:idx+3].tolist()}\n",
    "\n",
    "response = requests.post(url = url, json = data, headers = headers)  # a requests.models.Response object\n",
    "predictions = response.json()['predictions']    # self.json() is equivalent to json.loads(self.text)\n",
    "\n",
    "show(idx, 'The model thought this was a {} (class {}), and it was actually a {} (class {})'.format(\n",
    "  class_names[np.argmax(predictions[0])], test_labels[idx], class_names[np.argmax(predictions[0])], test_labels[idx]))"
   ]
  },
  {
   "cell_type": "markdown",
   "metadata": {
    "colab_type": "text",
    "id": "YJH8LtM4XELp"
   },
   "source": [
    "#### A particular version of the servable\n",
    "\n",
    "Now let's specify a particular version of our servable.  Since we only have one, let's select version 1.  We'll also look at all three results. We will also make use of the \"json\" library as an alternative to the (simpler) method above."
   ]
  },
  {
   "cell_type": "code",
   "execution_count": null,
   "metadata": {
    "colab": {
     "base_uri": "https://localhost:8080/",
     "height": 920
    },
    "colab_type": "code",
    "id": "zRftRxeR1tZx",
    "outputId": "c04d6187-9f67-40df-b43b-08819bc20110"
   },
   "outputs": [],
   "source": [
    "import json\n",
    "\n",
    "url = f'http://localhost:8501/v1/models/{MODEL_NAME}/versions/{VERSION}:predict'\n",
    "json_data = json.dumps(data)\n",
    "\n",
    "response = requests.post(url, data=json_data, headers=headers)\n",
    "predictions = json.loads(response.text)['predictions']\n",
    "\n",
    "for i in range(0,3):\n",
    "  show(idx+i, 'The model thought this was a {} (class {}), and it was actually a {} (class {})'.format(\n",
    "    class_names[np.argmax(predictions[i])], test_labels[idx+i], class_names[np.argmax(predictions[i])], test_labels[idx+i]))"
   ]
  },
  {
   "cell_type": "markdown",
   "metadata": {},
   "source": [
    "## Using the gRPC (google Remote Procedure Calls) protocol for requests"
   ]
  },
  {
   "cell_type": "code",
   "execution_count": null,
   "metadata": {},
   "outputs": [],
   "source": [
    "# Installing the Python tensorflow-serving-api if necessary\n",
    "#! pip install tensorflow-serving-api"
   ]
  },
  {
   "cell_type": "markdown",
   "metadata": {},
   "source": [
    "We'll make intensive use of protocol buffers which are represented by their access classes. The most important for us are the PredictRequest and the PredictResponse protos, but there are also Classification(Request/Response) and Regression(Request/Response) protos. Have a look at https://github.com/tensorflow/serving/tree/master/tensorflow_serving/apis. We'll also need the Tensor proto whose description can be found here https://github.com/tensorflow/tensorflow/blob/v2.2.0/tensorflow/core/framework/tensor.proto.\n",
    "\n",
    "\n",
    "```Python\n",
    "\n",
    "# PredictRequest specifies which TensorFlow model to run, as well as\n",
    "# how inputs are mapped to tensors and how outputs are filtered before\n",
    "# returning to user.\n",
    "message PredictRequest {\n",
    "  \n",
    "    # Model Specification. If version is not specified, will use the latest\n",
    "    # (numerical) version.\n",
    "    ModelSpec model_spec = 1;\n",
    "\n",
    "    # Input tensors.\n",
    "    # Names of input tensor are alias names. The mapping from aliases to real\n",
    "    # input tensor names is stored in the SavedModel export as a prediction\n",
    "    # SignatureDef under the 'inputs' field.\n",
    "    map<string, TensorProto> inputs = 2;\n",
    "\n",
    "    # Output filter.\n",
    "    # Names specified are alias names. The mapping from aliases to real output\n",
    "    # tensor names is stored in the SavedModel export as a prediction\n",
    "    # SignatureDef under the 'outputs' field.\n",
    "    # Only tensors specified here will be run/fetched and returned, with the\n",
    "    # exception that when none is specified, all tensors specified in the\n",
    "    # named signature will be run/fetched and returned.\n",
    "    repeated string output_filter = 3;\n",
    "}\n",
    "\n",
    "# Response for PredictRequest on successful run.\n",
    "message PredictResponse {\n",
    "  \n",
    "    # Effective Model Specification used to process PredictRequest.\n",
    "    ModelSpec model_spec = 2;\n",
    "\n",
    "    # Output tensors.\n",
    "    map<string, TensorProto> outputs = 1;\n",
    "}\n",
    "\n",
    "\n",
    "```\n",
    "\n"
   ]
  },
  {
   "cell_type": "markdown",
   "metadata": {},
   "source": [
    "Here is the definition of the ModelSpec protocol buffer.\n",
    "\n",
    "```Python\n",
    "# Metadata for an inference request such as the model name and version.\n",
    "message ModelSpec {\n",
    "  \n",
    "    # Required servable name.\n",
    "    string name = 1;\n",
    "\n",
    "    # Optional choice of which version of the model to use.\n",
    "    # Recommended to be left unset in the common case. Should be specified only\n",
    "    # when there is a strong version consistency requirement.\n",
    "    # When left unspecified, the system will serve the best available version.\n",
    "    # This is typically the latest version, though during version transitions,\n",
    "    # notably when serving on a fleet of instances, may be either the previous or\n",
    "    # new version.\n",
    "    oneof version_choice {\n",
    "     \n",
    "        # Use this specific version number.\n",
    "        google.protobuf.Int64Value version = 2;\n",
    "\n",
    "        # Use the version associated with the given label.\n",
    "        string version_label = 4;\n",
    "    }\n",
    "\n",
    "    # A named signature to evaluate. If unspecified, the default signature\n",
    "    # \"serving_default\" will be used.\n",
    "    string signature_name = 3;\n",
    "}\n",
    "```"
   ]
  },
  {
   "cell_type": "code",
   "execution_count": null,
   "metadata": {},
   "outputs": [],
   "source": [
    "import grpc\n",
    "from tensorflow_serving.apis.predict_pb2 import PredictRequest\n",
    "from tensorflow_serving.apis.prediction_service_pb2_grpc import PredictionServiceStub\n",
    "\n",
    "\n",
    "\n",
    "# creating an instance of the access class of the PredictRequest protocol buffer \n",
    "request = PredictRequest()\n",
    "\n",
    "# specifying the \"model_spec\" argument which is a ModelSpec protocol buffer\n",
    "request.model_spec.name = MODEL_NAME\n",
    "request.model_spec.signature_name = \"serving_default\"\n",
    "\n",
    "# specifying the \"inputs\" argument which is a dictionary of Tensor protocol buffers\n",
    "# we have to include the batch dimension and the data type should be float32\n",
    "# note that \"tf.make_tensor_proto\" does not accept tensors but Python or Numpy objects\n",
    "request.inputs[model.input_names[0]].CopyFrom(tf.make_tensor_proto(test_images[0:1].astype(np.float32)))\n",
    "\n",
    "print(\"The PredictRequest protocol buffer:\\n\")\n",
    "print(request)\n",
    "\n",
    "\n",
    "\n",
    "\n",
    "# creating a gRPC communication channel to 'localhost:8500'\n",
    "channel = grpc.insecure_channel('localhost:8500')\n",
    "\n",
    "# creating a gRPC service object\n",
    "predict_service = PredictionServiceStub(channel)\n",
    "\n",
    "# sending the 'request' using the predict method of the service with a timeout of 10s \n",
    "# and getting an instance of the access class of a PredictResponse protocol buffer \n",
    "response = predict_service.Predict(request, timeout=10.0)\n",
    "\n",
    "print(\"The PredictResponse protocol buffer:\\n\")\n",
    "print(response)\n",
    "\n",
    "# extracting the Tensor protocol buffer representing the first output from the response\n",
    "output_tensor_proto = response.outputs[model.output_names[0]]\n",
    "\n",
    "# parsing a ndarray from the Tensor protocol buffer \n",
    "# (and not from the Tensor stored in the \"tensor_content\")\n",
    "y_proba = tf.make_ndarray(output_tensor_proto)\n",
    "\n",
    "# inspecting the result\n",
    "print(\"The predicted probabilities of the classes:\")\n",
    "y_proba.round(2)"
   ]
  },
  {
   "cell_type": "code",
   "execution_count": null,
   "metadata": {},
   "outputs": [],
   "source": []
  }
 ],
 "metadata": {
  "accelerator": "GPU",
  "colab": {
   "collapsed_sections": [],
   "name": "rest_simple.ipynb",
   "provenance": [],
   "toc_visible": true
  },
  "kernelspec": {
   "display_name": "project3_env",
   "language": "python",
   "name": "project3_env"
  },
  "language_info": {
   "codemirror_mode": {
    "name": "ipython",
    "version": 3
   },
   "file_extension": ".py",
   "mimetype": "text/x-python",
   "name": "python",
   "nbconvert_exporter": "python",
   "pygments_lexer": "ipython3",
   "version": "3.6.9"
  }
 },
 "nbformat": 4,
 "nbformat_minor": 4
}
