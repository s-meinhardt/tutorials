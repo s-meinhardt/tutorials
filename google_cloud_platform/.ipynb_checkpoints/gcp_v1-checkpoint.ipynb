{
 "cells": [
  {
   "cell_type": "code",
   "execution_count": null,
   "metadata": {},
   "outputs": [],
   "source": [
    "CREDENTIALS = # path to your service account key file\n",
    "PROJECT_ID = # your project id\n",
    "BUCKET_NAME = PROJECT_ID + '-2nd-bucket'\n",
    "REGION = 'europe-west2'\n",
    "\n",
    "import os \n",
    "\n",
    "os.environ['GOOGLE_APPLICATION_CREDENTIALS'] = CREDENTIALS\n",
    "os.environ['PROJECT_ID'] = PROJECT_ID\n",
    "os.environ['BUCKET_NAME'] = BUCKET_NAME\n",
    "os.environ['REGION'] = REGION\n",
    "\n"
   ]
  },
  {
   "cell_type": "markdown",
   "metadata": {},
   "source": [
    "We create a Google Cloud Storage Bucket to save our model. This can be done in a terminal or via the `%%bash` magic method."
   ]
  },
  {
   "cell_type": "code",
   "execution_count": null,
   "metadata": {},
   "outputs": [],
   "source": [
    "%%bash\n",
    "\n",
    "gsutil mb -l $REGION -p $PROJECT_ID gs://$BUCKET_NAME"
   ]
  },
  {
   "cell_type": "code",
   "execution_count": null,
   "metadata": {},
   "outputs": [],
   "source": [
    "package_path = 'package_1'\n",
    "module_name = 'my_module'\n",
    "job_dir = 'training_output'\n",
    "\n",
    "os.environ['PACKAGE_PATH'] = package_path\n",
    "os.environ['MODULE_NAME'] = module_name\n",
    "os.environ['JOB_DIR'] = job_dir"
   ]
  },
  {
   "cell_type": "markdown",
   "metadata": {},
   "source": [
    "We create a directory which will become our Python package."
   ]
  },
  {
   "cell_type": "code",
   "execution_count": null,
   "metadata": {},
   "outputs": [],
   "source": [
    "!mkdir $PACKAGE_PATH"
   ]
  },
  {
   "cell_type": "markdown",
   "metadata": {},
   "source": [
    "We specify the paths of our `__init__.py` file and the Python file containing the code. Both files will be within our package directory."
   ]
  },
  {
   "cell_type": "code",
   "execution_count": null,
   "metadata": {},
   "outputs": [],
   "source": [
    "init_path = os.path.join(package_path,'__init__.py')\n",
    "module_path = os.path.join(package_path, module_name+'.py')\n"
   ]
  },
  {
   "cell_type": "markdown",
   "metadata": {},
   "source": [
    "We create an empty `__init__.py` file inside our package directory to define this directory as a python package."
   ]
  },
  {
   "cell_type": "code",
   "execution_count": null,
   "metadata": {},
   "outputs": [],
   "source": [
    "%%writefile $init_path\n",
    "\n"
   ]
  },
  {
   "cell_type": "markdown",
   "metadata": {},
   "source": [
    "We create a Python file containing the code to be executed."
   ]
  },
  {
   "cell_type": "code",
   "execution_count": null,
   "metadata": {},
   "outputs": [],
   "source": []
  },
  {
   "cell_type": "code",
   "execution_count": null,
   "metadata": {},
   "outputs": [],
   "source": [
    "%%writefile 'pakage_1/'"
   ]
  },
  {
   "cell_type": "code",
   "execution_count": null,
   "metadata": {},
   "outputs": [],
   "source": [
    "%%writefile $module_path\n",
    "\n",
    "import tensorflow as tf\n",
    "#import numpy as np\n",
    "\n",
    "#for gpu in tf.config.list_physical_devices('GPU'):\n",
    "#    tf.config.experimental.set_memory_growth(gpu, True)\n",
    "#    print(f'Enabled memory growth for {gpu}')\n",
    "    \n",
    "#AUTOTUNE = tf.data.experimental.AUTOTUNE\n",
    "\n",
    "(x_train, y_train), (x_test, y_test) = tf.keras.datasets.mnist.load_data()\n",
    "\n",
    "model = tf.keras.Sequential([\n",
    "    tf.keras.layers.Reshape(target_shape=[28,28,1], input_shape=[28,28]),\n",
    "    tf.keras.layers.Conv2D(filters=8, kernel_size=(3,3), activation='relu'),\n",
    "    tf.keras.layers.MaxPooling2D(pool_size=(2,2)),\n",
    "    tf.keras.layers.Conv2D(filters=16, kernel_size=(3,3), activation='relu'),\n",
    "    tf.keras.layers.MaxPooling2D(pool_size=(2,2)),\n",
    "    tf.keras.layers.Conv2D(filters=32, kernel_size=(3,3), activation='relu'),\n",
    "    tf.keras.layers.MaxPooling2D(pool_size=(2,2)),\n",
    "    tf.keras.layers.Flatten(),\n",
    "    tf.keras.layers.Dropout(rate=0.2),\n",
    "    tf.keras.layers.Dense(units=128, activation='relu'),\n",
    "    tf.keras.layers.Dense(units=10, activation='softmax')\n",
    "    ])\n",
    "\n",
    "model.compile(loss='sparse_categorical_crossentropy', optimizer='adam', metrics=['accuracy'])\n",
    "\n",
    "history = model.fit(x_train, y_train, validation_data=(x_test, y_test), epochs=100, batch_size=128, verbose=0)"
   ]
  },
  {
   "cell_type": "code",
   "execution_count": null,
   "metadata": {},
   "outputs": [],
   "source": []
  },
  {
   "cell_type": "code",
   "execution_count": null,
   "metadata": {},
   "outputs": [],
   "source": [
    "%%bash \n",
    "\n",
    "gcloud ai-platform local train \\\n",
    "    --package-path $PACKAGE_PATH \\\n",
    "    --module-name $PACKAGE_PATH.$MODULE_NAME \\\n",
    "    --job-dir $JOB_DIR"
   ]
  },
  {
   "cell_type": "code",
   "execution_count": null,
   "metadata": {},
   "outputs": [],
   "source": [
    "os.environ['JOB_NAME'] = 'my_first_keras_classifier'\n",
    "os.environ['JOB_DIR'] = 'gs://' + BUCKET_NAME + '/keras-job-dir'"
   ]
  },
  {
   "cell_type": "code",
   "execution_count": null,
   "metadata": {},
   "outputs": [],
   "source": [
    "%%bash\n",
    "\n",
    "gcloud ai-platform jobs submit training $JOB_NAME \\\n",
    "    --package-path $PACKAGE_PATH \\\n",
    "    --module-name $PACKAGE_PATH.$MODULE_NAME \\\n",
    "    --region $REGION \\\n",
    "    --python-version 3.7 \\\n",
    "    --runtime-version 2.1 \\\n",
    "    --job-dir $JOB_DIR\n",
    " "
   ]
  },
  {
   "cell_type": "code",
   "execution_count": null,
   "metadata": {},
   "outputs": [],
   "source": [
    "!echo $JOB_DIR"
   ]
  },
  {
   "cell_type": "code",
   "execution_count": null,
   "metadata": {},
   "outputs": [],
   "source": []
  }
 ],
 "metadata": {
  "kernelspec": {
   "display_name": "project3_env",
   "language": "python",
   "name": "project3_env"
  },
  "language_info": {
   "codemirror_mode": {
    "name": "ipython",
    "version": 3
   },
   "file_extension": ".py",
   "mimetype": "text/x-python",
   "name": "python",
   "nbconvert_exporter": "python",
   "pygments_lexer": "ipython3",
   "version": "3.6.9"
  }
 },
 "nbformat": 4,
 "nbformat_minor": 4
}
